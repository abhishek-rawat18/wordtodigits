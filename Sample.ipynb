{
  "nbformat": 4,
  "nbformat_minor": 0,
  "metadata": {
    "colab": {
      "name": "Copy of MDS201802_NLP_HW1.ipynb",
      "provenance": [],
      "collapsed_sections": []
    },
    "kernelspec": {
      "name": "python3",
      "display_name": "Python 3"
    }
  },
  "cells": [
    {
      "cell_type": "code",
      "metadata": {
        "id": "RAmD9s9f0VSb",
        "colab_type": "code",
        "colab": {
          "base_uri": "https://localhost:8080/",
          "height": 110
        },
        "outputId": "5eab8418-55f5-45f6-c94f-eb46b0175d0e"
      },
      "source": [
        "pip install wordtodigits==1.0.0"
      ],
      "execution_count": 1,
      "outputs": [
        {
          "output_type": "stream",
          "text": [
            "Collecting wordtodigits==1.0.0\n",
            "  Downloading https://files.pythonhosted.org/packages/e4/b0/b029d116ecb1e209bf47d4ea89308324c45358a4549f865b29ce4b4245d7/wordtodigits-1.0.0-py3-none-any.whl\n",
            "Installing collected packages: wordtodigits\n",
            "Successfully installed wordtodigits-1.0.0\n"
          ],
          "name": "stdout"
        }
      ]
    },
    {
      "cell_type": "code",
      "metadata": {
        "id": "-Ruh3EMH0dTl",
        "colab_type": "code",
        "colab": {}
      },
      "source": [
        "from wordtodigits import convert"
      ],
      "execution_count": 0,
      "outputs": []
    },
    {
      "cell_type": "code",
      "metadata": {
        "id": "jTZpXAJXAs-1",
        "colab_type": "code",
        "outputId": "3c53625a-2f6d-4804-9dc2-3bc26f2a901c",
        "colab": {
          "base_uri": "https://localhost:8080/",
          "height": 35
        }
      },
      "source": [
        "convert(\"A car accelerates uniformly over a time of five point two one seconds for a distance of one hundred and ten meters.\")"
      ],
      "execution_count": 6,
      "outputs": [
        {
          "output_type": "stream",
          "text": [
            "A car accelerates uniformly over a time of 5.21 seconds for a distance of 110 meters. \n"
          ],
          "name": "stdout"
        }
      ]
    },
    {
      "cell_type": "code",
      "metadata": {
        "id": "sYmOcxSWBTPo",
        "colab_type": "code",
        "outputId": "d6748613-89f2-485a-d844-8ad69e0cad1d",
        "colab": {
          "base_uri": "https://localhost:8080/",
          "height": 35
        }
      },
      "source": [
        "convert(\"The algorithm should work from zero to nine hundred and ninety nine million nine  hundred and ninety nine thousand and nine hundred and ninety nine.\")"
      ],
      "execution_count": 7,
      "outputs": [
        {
          "output_type": "stream",
          "text": [
            "The algorithm should work from 0 to 999999999. \n"
          ],
          "name": "stdout"
        }
      ]
    },
    {
      "cell_type": "markdown",
      "metadata": {
        "id": "dKsThPt_Bdbf",
        "colab_type": "text"
      },
      "source": [
        "Note that in the above problem the word \"nine.\" at the end had a fullstop along with it. But still the code works."
      ]
    },
    {
      "cell_type": "code",
      "metadata": {
        "id": "Mgb16UiKBpU3",
        "colab_type": "code",
        "outputId": "5917ef9c-c1dd-46a8-833f-e50151efe421",
        "colab": {
          "base_uri": "https://localhost:8080/",
          "height": 35
        }
      },
      "source": [
        "convert(\"This is seven million one hundred and thirty one thousand three hundred and thirty seven.\")"
      ],
      "execution_count": 8,
      "outputs": [
        {
          "output_type": "stream",
          "text": [
            "This is 7131337. \n"
          ],
          "name": "stdout"
        }
      ]
    },
    {
      "cell_type": "code",
      "metadata": {
        "id": "18hg2FPzB7sn",
        "colab_type": "code",
        "outputId": "7ad94cf7-7e0e-4441-ed9a-4be4a4f3a7e8",
        "colab": {
          "base_uri": "https://localhost:8080/",
          "height": 35
        }
      },
      "source": [
        "convert(\"one hundred point nine six two only.\")"
      ],
      "execution_count": 9,
      "outputs": [
        {
          "output_type": "stream",
          "text": [
            "100.962 only. \n"
          ],
          "name": "stdout"
        }
      ]
    },
    {
      "cell_type": "code",
      "metadata": {
        "id": "FVNsFjt7CAs1",
        "colab_type": "code",
        "outputId": "c8a88bdd-45c6-483c-d2c5-4f45c5bdfe26",
        "colab": {
          "base_uri": "https://localhost:8080/",
          "height": 35
        }
      },
      "source": [
        "convert(\"It should work for point two!\")"
      ],
      "execution_count": 10,
      "outputs": [
        {
          "output_type": "stream",
          "text": [
            "It should work for 0.2! \n"
          ],
          "name": "stdout"
        }
      ]
    },
    {
      "cell_type": "markdown",
      "metadata": {
        "id": "26zwwMfQCF5P",
        "colab_type": "text"
      },
      "source": [
        "Note that it works for numbers starting with \"point\". But it is also ensured that if \"point\" means something else (not a part of the number), its not converted (as shown below)."
      ]
    },
    {
      "cell_type": "code",
      "metadata": {
        "id": "-3lhHoEfCFNa",
        "colab_type": "code",
        "outputId": "9fad0a69-1676-4c5a-f00a-375eab4da8cd",
        "colab": {
          "base_uri": "https://localhost:8080/",
          "height": 35
        }
      },
      "source": [
        "convert(\"This point is great\")"
      ],
      "execution_count": 11,
      "outputs": [
        {
          "output_type": "stream",
          "text": [
            "This point is great \n"
          ],
          "name": "stdout"
        }
      ]
    },
    {
      "cell_type": "code",
      "metadata": {
        "id": "SdRXccYrCsPQ",
        "colab_type": "code",
        "outputId": "44b4c604-636d-47aa-e461-2e114f3f29e2",
        "colab": {
          "base_uri": "https://localhost:8080/",
          "height": 35
        }
      },
      "source": [
        "convert(\"This costs you one point.\")"
      ],
      "execution_count": 12,
      "outputs": [
        {
          "output_type": "stream",
          "text": [
            "This costs you 1 point. \n"
          ],
          "name": "stdout"
        }
      ]
    },
    {
      "cell_type": "code",
      "metadata": {
        "id": "kb3VtSC4CdZV",
        "colab_type": "code",
        "outputId": "ac2a648c-cdd5-4b52-a89f-83faa4063cf5",
        "colab": {
          "base_uri": "https://localhost:8080/",
          "height": 35
        }
      },
      "source": [
        "convert(\"Does it work for zero?\")"
      ],
      "execution_count": 13,
      "outputs": [
        {
          "output_type": "stream",
          "text": [
            "Does it work for 0? \n"
          ],
          "name": "stdout"
        }
      ]
    },
    {
      "cell_type": "code",
      "metadata": {
        "id": "OETgpKepCkS0",
        "colab_type": "code",
        "outputId": "fe572772-9be3-4e54-eb1c-f790d67b1f3d",
        "colab": {
          "base_uri": "https://localhost:8080/",
          "height": 35
        }
      },
      "source": [
        "convert(\"seven hundred million sixty nine thousand point six two one only\")"
      ],
      "execution_count": 14,
      "outputs": [
        {
          "output_type": "stream",
          "text": [
            "700069000.621 only \n"
          ],
          "name": "stdout"
        }
      ]
    },
    {
      "cell_type": "markdown",
      "metadata": {
        "id": "hkfPBNzsDHLC",
        "colab_type": "text"
      },
      "source": [
        "So it also works if \"and\" is missing in between the words of the numbers as shown above."
      ]
    },
    {
      "cell_type": "code",
      "metadata": {
        "id": "vE6fm9phDFMf",
        "colab_type": "code",
        "outputId": "2274bdd6-280e-482e-a486-17e49724de38",
        "colab": {
          "base_uri": "https://localhost:8080/",
          "height": 35
        }
      },
      "source": [
        "convert(\"This is for six and that is for seven point five zero rupees.\")"
      ],
      "execution_count": 15,
      "outputs": [
        {
          "output_type": "stream",
          "text": [
            "This is for 6 and that is for 7.50 rupees. \n"
          ],
          "name": "stdout"
        }
      ]
    },
    {
      "cell_type": "markdown",
      "metadata": {
        "id": "ILUU_vHqYN_8",
        "colab_type": "text"
      },
      "source": [
        "Note that it also takes the precision of decimal points into account."
      ]
    },
    {
      "cell_type": "code",
      "metadata": {
        "id": "BX38FwwPWV7y",
        "colab_type": "code",
        "outputId": "d0faca43-7d80-4205-b919-3103146d2ebc",
        "colab": {
          "base_uri": "https://localhost:8080/",
          "height": 35
        }
      },
      "source": [
        "convert(\"Sixty point two\") "
      ],
      "execution_count": 16,
      "outputs": [
        {
          "output_type": "stream",
          "text": [
            "60.2 \n"
          ],
          "name": "stdout"
        }
      ]
    },
    {
      "cell_type": "code",
      "metadata": {
        "id": "BI_WS84rX_ZA",
        "colab_type": "code",
        "outputId": "9fa3956f-288d-40d5-d3df-4e1ed80bc051",
        "colab": {
          "base_uri": "https://localhost:8080/",
          "height": 35
        }
      },
      "source": [
        "convert(\"Point six\")"
      ],
      "execution_count": 17,
      "outputs": [
        {
          "output_type": "stream",
          "text": [
            "0.6 \n"
          ],
          "name": "stdout"
        }
      ]
    },
    {
      "cell_type": "markdown",
      "metadata": {
        "id": "DslE1fVZX1sd",
        "colab_type": "text"
      },
      "source": [
        "Thus it is also taking into account the words starting with a capital alphabet"
      ]
    },
    {
      "cell_type": "markdown",
      "metadata": {
        "id": "sGwJb5GjBSAP",
        "colab_type": "text"
      },
      "source": [
        "\n",
        "\n",
        "---\n",
        "\n",
        "\n",
        "\n",
        "---\n",
        "\n"
      ]
    }
  ]
}